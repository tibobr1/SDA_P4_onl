{
 "cells": [
  {
   "cell_type": "markdown",
   "id": "d49c7537-e796-4f59-bcad-e9ae7fb8d60d",
   "metadata": {},
   "source": [
    "## IMPORT DES LIBRAIRIES"
   ]
  },
  {
   "cell_type": "code",
   "execution_count": 3,
   "id": "33bb1c23-a6c4-4ef6-a885-0599a45930f4",
   "metadata": {},
   "outputs": [],
   "source": [
    "# Package de manipaulation des tableaux et dataframe\n",
    "import pandas as pd\n",
    "import numpy as np\n",
    "from sklearn.model_selection import train_test_split\n",
    "\n",
    "# Package pour analyse statistique\n",
    "import scipy.stats as ss\n",
    "\n",
    "# Package pour représentation graphique\n",
    "import matplotlib.pyplot as plt\n",
    "import seaborn as sns\n",
    "import plotly.express as px\n",
    "import plotly.graph_objects as go\n",
    "import scikitplot as skplt\n",
    "\n",
    "# Affichage Image (png, jpeg, html ...)\n",
    "from IPython.display import Image, HTML\n",
    "\n",
    "# Typing des fonctions\n",
    "from typing import List, Optional"
   ]
  },
  {
   "cell_type": "code",
   "execution_count": 1,
   "id": "3b946cb3-d8c8-47a7-8160-242660a0ca31",
   "metadata": {},
   "outputs": [
    {
     "ename": "NameError",
     "evalue": "name 'Test' is not defined",
     "output_type": "error",
     "traceback": [
      "\u001b[1;31m---------------------------------------------------------------------------\u001b[0m",
      "\u001b[1;31mNameError\u001b[0m                                 Traceback (most recent call last)",
      "Input \u001b[1;32mIn [1]\u001b[0m, in \u001b[0;36m<cell line: 1>\u001b[1;34m()\u001b[0m\n\u001b[1;32m----> 1\u001b[0m \u001b[43mTest\u001b[49m\n",
      "\u001b[1;31mNameError\u001b[0m: name 'Test' is not defined"
     ]
    }
   ],
   "source": [
    "Test"
   ]
  },
  {
   "cell_type": "markdown",
   "id": "fa0481ea-8f11-4507-956e-eae4e57d1d95",
   "metadata": {},
   "source": [
    "Décision 1 : importer les fichiers 1 par 1 dans une DF car la mise en forme est différente pour chacun des fichiers"
   ]
  },
  {
   "cell_type": "markdown",
   "id": "47e9ca45-5f1d-4d63-a2f4-7513fa121ba8",
   "metadata": {},
   "source": [
    "## DECLARATION DES FONCTIONS"
   ]
  },
  {
   "cell_type": "code",
   "execution_count": 25,
   "id": "b7d80810-61fe-4083-b97d-398e2b16a464",
   "metadata": {},
   "outputs": [],
   "source": [
    "# ---------------------------------------Fonction-------------------\n",
    "# Création d'une dataframe de distribution \n",
    "def ditrib_calc(var1,var2,var3):\n",
    "    df_temp = pd.DataFrame(var1.value_counts(normalize=True) * 100).reset_index().rename(columns={\"index\": var2, var3: \"count\"})\n",
    "    return df_temp\n",
    "\n",
    "# Représentation graphique : bar plot target\n",
    "\n",
    "def ditrib_graph(var1,var2,var3):\n",
    "    fig = px.bar(var1, \n",
    "                 y=\"target\", x=\"count\",\n",
    "                 hover_data={'count':':.2f'}\n",
    "    )\n",
    "    fig.update_layout(\n",
    "        title=var2,\n",
    "        xaxis_title=\"Pourcentage par classe\",\n",
    "        yaxis_title=var3,\n",
    "        margin=dict(l=0, r=0, t=30, b=50),\n",
    "        width=500, height=300\n",
    "    )\n",
    "    return fig.show()"
   ]
  },
  {
   "cell_type": "markdown",
   "id": "e6c08636-654f-40e9-84e4-c542d121c8ab",
   "metadata": {},
   "source": [
    "## IMPORT et MISE EN FORME DES DONNEES"
   ]
  },
  {
   "cell_type": "code",
   "execution_count": 45,
   "id": "5253b333-e4ff-4ed9-872f-6922c79f2482",
   "metadata": {},
   "outputs": [
    {
     "name": "stdout",
     "output_type": "stream",
     "text": [
      "<class 'pandas.core.frame.DataFrame'>\n",
      "RangeIndex: 3152 entries, 0 to 3151\n",
      "Data columns (total 10 columns):\n",
      " #   Column          Non-Null Count  Dtype  \n",
      "---  ------          --------------  -----  \n",
      " 0   state_name      3152 non-null   object \n",
      " 1   county_fips     3152 non-null   int64  \n",
      " 2   county_name     3152 non-null   object \n",
      " 3   votes_gop       3152 non-null   int64  \n",
      " 4   votes_dem       3152 non-null   int64  \n",
      " 5   total_votes     3152 non-null   int64  \n",
      " 6   diff            3152 non-null   int64  \n",
      " 7   per_gop         3152 non-null   float64\n",
      " 8   per_dem         3152 non-null   float64\n",
      " 9   per_point_diff  3152 non-null   float64\n",
      "dtypes: float64(3), int64(5), object(2)\n",
      "memory usage: 246.4+ KB\n",
      "None\n",
      "<class 'pandas.core.frame.DataFrame'>\n",
      "RangeIndex: 3287 entries, 0 to 3286\n",
      "Data columns (total 47 columns):\n",
      " #   Column                                                                                            Non-Null Count  Dtype \n",
      "---  ------                                                                                            --------------  ----- \n",
      " 0   Educational attainment for adults age 25 and older for the U.S., States, and counties, 1970-2019  3287 non-null   object\n",
      " 1   Unnamed: 1                                                                                        3284 non-null   object\n",
      " 2   Unnamed: 2                                                                                        3284 non-null   object\n",
      " 3   Unnamed: 3                                                                                        3222 non-null   object\n",
      " 4   Unnamed: 4                                                                                        3222 non-null   object\n",
      " 5   Unnamed: 5                                                                                        3222 non-null   object\n",
      " 6   Unnamed: 6                                                                                        3222 non-null   object\n",
      " 7   Unnamed: 7                                                                                        3187 non-null   object\n",
      " 8   Unnamed: 8                                                                                        3187 non-null   object\n",
      " 9   Unnamed: 9                                                                                        3187 non-null   object\n",
      " 10  Unnamed: 10                                                                                       3187 non-null   object\n",
      " 11  Unnamed: 11                                                                                       3187 non-null   object\n",
      " 12  Unnamed: 12                                                                                       3187 non-null   object\n",
      " 13  Unnamed: 13                                                                                       3187 non-null   object\n",
      " 14  Unnamed: 14                                                                                       3187 non-null   object\n",
      " 15  Unnamed: 15                                                                                       3268 non-null   object\n",
      " 16  Unnamed: 16                                                                                       3268 non-null   object\n",
      " 17  Unnamed: 17                                                                                       3268 non-null   object\n",
      " 18  Unnamed: 18                                                                                       3268 non-null   object\n",
      " 19  Unnamed: 19                                                                                       3268 non-null   object\n",
      " 20  Unnamed: 20                                                                                       3268 non-null   object\n",
      " 21  Unnamed: 21                                                                                       3268 non-null   object\n",
      " 22  Unnamed: 22                                                                                       3268 non-null   object\n",
      " 23  Unnamed: 23                                                                                       3272 non-null   object\n",
      " 24  Unnamed: 24                                                                                       3272 non-null   object\n",
      " 25  Unnamed: 25                                                                                       3272 non-null   object\n",
      " 26  Unnamed: 26                                                                                       3272 non-null   object\n",
      " 27  Unnamed: 27                                                                                       3272 non-null   object\n",
      " 28  Unnamed: 28                                                                                       3272 non-null   object\n",
      " 29  Unnamed: 29                                                                                       3271 non-null   object\n",
      " 30  Unnamed: 30                                                                                       3272 non-null   object\n",
      " 31  Unnamed: 31                                                                                       3273 non-null   object\n",
      " 32  Unnamed: 32                                                                                       3273 non-null   object\n",
      " 33  Unnamed: 33                                                                                       3273 non-null   object\n",
      " 34  Unnamed: 34                                                                                       3273 non-null   object\n",
      " 35  Unnamed: 35                                                                                       3273 non-null   object\n",
      " 36  Unnamed: 36                                                                                       3273 non-null   object\n",
      " 37  Unnamed: 37                                                                                       3273 non-null   object\n",
      " 38  Unnamed: 38                                                                                       3273 non-null   object\n",
      " 39  Unnamed: 39                                                                                       3274 non-null   object\n",
      " 40  Unnamed: 40                                                                                       3274 non-null   object\n",
      " 41  Unnamed: 41                                                                                       3274 non-null   object\n",
      " 42  Unnamed: 42                                                                                       3274 non-null   object\n",
      " 43  Unnamed: 43                                                                                       3274 non-null   object\n",
      " 44  Unnamed: 44                                                                                       3274 non-null   object\n",
      " 45  Unnamed: 45                                                                                       3274 non-null   object\n",
      " 46  Unnamed: 46                                                                                       3274 non-null   object\n",
      "dtypes: object(47)\n",
      "memory usage: 1.2+ MB\n",
      "None\n",
      "<class 'pandas.core.frame.DataFrame'>\n",
      "RangeIndex: 3275 entries, 0 to 3274\n",
      "Columns: 165 entries, Population estimates for the U.S., States, and counties, 2010-19 (see the second tab in this workbook for variable name descriptions) to Unnamed: 164\n",
      "dtypes: object(165)\n",
      "memory usage: 4.1+ MB\n",
      "None\n",
      "<class 'pandas.core.frame.DataFrame'>\n",
      "RangeIndex: 3197 entries, 0 to 3196\n",
      "Data columns (total 34 columns):\n",
      " #   Column                                                      Non-Null Count  Dtype \n",
      "---  ------                                                      --------------  ----- \n",
      " 0   Poverty estimates for the U.S., States, and counties, 2019  3197 non-null   object\n",
      " 1   Unnamed: 1                                                  3194 non-null   object\n",
      " 2   Unnamed: 2                                                  3194 non-null   object\n",
      " 3   Unnamed: 3                                                  3137 non-null   object\n",
      " 4   Unnamed: 4                                                  3137 non-null   object\n",
      " 5   Unnamed: 5                                                  3142 non-null   object\n",
      " 6   Unnamed: 6                                                  3142 non-null   object\n",
      " 7   Unnamed: 7                                                  3194 non-null   object\n",
      " 8   Unnamed: 8                                                  3194 non-null   object\n",
      " 9   Unnamed: 9                                                  3194 non-null   object\n",
      " 10  Unnamed: 10                                                 3194 non-null   object\n",
      " 11  Unnamed: 11                                                 3194 non-null   object\n",
      " 12  Unnamed: 12                                                 3194 non-null   object\n",
      " 13  Unnamed: 13                                                 3194 non-null   object\n",
      " 14  Unnamed: 14                                                 3194 non-null   object\n",
      " 15  Unnamed: 15                                                 3194 non-null   object\n",
      " 16  Unnamed: 16                                                 3194 non-null   object\n",
      " 17  Unnamed: 17                                                 3194 non-null   object\n",
      " 18  Unnamed: 18                                                 3194 non-null   object\n",
      " 19  Unnamed: 19                                                 3194 non-null   object\n",
      " 20  Unnamed: 20                                                 3194 non-null   object\n",
      " 21  Unnamed: 21                                                 3194 non-null   object\n",
      " 22  Unnamed: 22                                                 3194 non-null   object\n",
      " 23  Unnamed: 23                                                 3194 non-null   object\n",
      " 24  Unnamed: 24                                                 3194 non-null   object\n",
      " 25  Unnamed: 25                                                 3194 non-null   object\n",
      " 26  Unnamed: 26                                                 3194 non-null   object\n",
      " 27  Unnamed: 27                                                 3194 non-null   object\n",
      " 28  Unnamed: 28                                                 53 non-null     object\n",
      " 29  Unnamed: 29                                                 53 non-null     object\n",
      " 30  Unnamed: 30                                                 53 non-null     object\n",
      " 31  Unnamed: 31                                                 53 non-null     object\n",
      " 32  Unnamed: 32                                                 53 non-null     object\n",
      " 33  Unnamed: 33                                                 53 non-null     object\n",
      "dtypes: object(34)\n",
      "memory usage: 849.3+ KB\n",
      "None\n",
      "<class 'pandas.core.frame.DataFrame'>\n",
      "RangeIndex: 3279 entries, 0 to 3278\n",
      "Data columns (total 88 columns):\n",
      " #   Column                                                                                Non-Null Count  Dtype \n",
      "---  ------                                                                                --------------  ----- \n",
      " 0   Unemployment and median household income for the U.S., States, and counties, 2000-19  3279 non-null   object\n",
      " 1   Unnamed: 1                                                                            3276 non-null   object\n",
      " 2   Unnamed: 2                                                                            3276 non-null   object\n",
      " 3   Unnamed: 3                                                                            3220 non-null   object\n",
      " 4   Unnamed: 4                                                                            3220 non-null   object\n",
      " 5   Unnamed: 5                                                                            3223 non-null   object\n",
      " 6   Unnamed: 6                                                                            3271 non-null   object\n",
      " 7   Unnamed: 7                                                                            3271 non-null   object\n",
      " 8   Unnamed: 8                                                                            3271 non-null   object\n",
      " 9   Unnamed: 9                                                                            3271 non-null   object\n",
      " 10  Unnamed: 10                                                                           3271 non-null   object\n",
      " 11  Unnamed: 11                                                                           3271 non-null   object\n",
      " 12  Unnamed: 12                                                                           3271 non-null   object\n",
      " 13  Unnamed: 13                                                                           3271 non-null   object\n",
      " 14  Unnamed: 14                                                                           3271 non-null   object\n",
      " 15  Unnamed: 15                                                                           3271 non-null   object\n",
      " 16  Unnamed: 16                                                                           3271 non-null   object\n",
      " 17  Unnamed: 17                                                                           3271 non-null   object\n",
      " 18  Unnamed: 18                                                                           3271 non-null   object\n",
      " 19  Unnamed: 19                                                                           3271 non-null   object\n",
      " 20  Unnamed: 20                                                                           3271 non-null   object\n",
      " 21  Unnamed: 21                                                                           3271 non-null   object\n",
      " 22  Unnamed: 22                                                                           3271 non-null   object\n",
      " 23  Unnamed: 23                                                                           3271 non-null   object\n",
      " 24  Unnamed: 24                                                                           3271 non-null   object\n",
      " 25  Unnamed: 25                                                                           3271 non-null   object\n",
      " 26  Unnamed: 26                                                                           3264 non-null   object\n",
      " 27  Unnamed: 27                                                                           3264 non-null   object\n",
      " 28  Unnamed: 28                                                                           3264 non-null   object\n",
      " 29  Unnamed: 29                                                                           3264 non-null   object\n",
      " 30  Unnamed: 30                                                                           3264 non-null   object\n",
      " 31  Unnamed: 31                                                                           3264 non-null   object\n",
      " 32  Unnamed: 32                                                                           3264 non-null   object\n",
      " 33  Unnamed: 33                                                                           3264 non-null   object\n",
      " 34  Unnamed: 34                                                                           3271 non-null   object\n",
      " 35  Unnamed: 35                                                                           3271 non-null   object\n",
      " 36  Unnamed: 36                                                                           3271 non-null   object\n",
      " 37  Unnamed: 37                                                                           3271 non-null   object\n",
      " 38  Unnamed: 38                                                                           3271 non-null   object\n",
      " 39  Unnamed: 39                                                                           3271 non-null   object\n",
      " 40  Unnamed: 40                                                                           3271 non-null   object\n",
      " 41  Unnamed: 41                                                                           3271 non-null   object\n",
      " 42  Unnamed: 42                                                                           3271 non-null   object\n",
      " 43  Unnamed: 43                                                                           3271 non-null   object\n",
      " 44  Unnamed: 44                                                                           3271 non-null   object\n",
      " 45  Unnamed: 45                                                                           3271 non-null   object\n",
      " 46  Unnamed: 46                                                                           3273 non-null   object\n",
      " 47  Unnamed: 47                                                                           3273 non-null   object\n",
      " 48  Unnamed: 48                                                                           3273 non-null   object\n",
      " 49  Unnamed: 49                                                                           3273 non-null   object\n",
      " 50  Unnamed: 50                                                                           3273 non-null   object\n",
      " 51  Unnamed: 51                                                                           3273 non-null   object\n",
      " 52  Unnamed: 52                                                                           3273 non-null   object\n",
      " 53  Unnamed: 53                                                                           3273 non-null   object\n",
      " 54  Unnamed: 54                                                                           3273 non-null   object\n",
      " 55  Unnamed: 55                                                                           3273 non-null   object\n",
      " 56  Unnamed: 56                                                                           3273 non-null   object\n",
      " 57  Unnamed: 57                                                                           3273 non-null   object\n",
      " 58  Unnamed: 58                                                                           3273 non-null   object\n",
      " 59  Unnamed: 59                                                                           3273 non-null   object\n",
      " 60  Unnamed: 60                                                                           3273 non-null   object\n",
      " 61  Unnamed: 61                                                                           3273 non-null   object\n",
      " 62  Unnamed: 62                                                                           3273 non-null   object\n",
      " 63  Unnamed: 63                                                                           3273 non-null   object\n",
      " 64  Unnamed: 64                                                                           3273 non-null   object\n",
      " 65  Unnamed: 65                                                                           3273 non-null   object\n",
      " 66  Unnamed: 66                                                                           3273 non-null   object\n",
      " 67  Unnamed: 67                                                                           3273 non-null   object\n",
      " 68  Unnamed: 68                                                                           3273 non-null   object\n",
      " 69  Unnamed: 69                                                                           3273 non-null   object\n",
      " 70  Unnamed: 70                                                                           3273 non-null   object\n",
      " 71  Unnamed: 71                                                                           3273 non-null   object\n",
      " 72  Unnamed: 72                                                                           3273 non-null   object\n",
      " 73  Unnamed: 73                                                                           3273 non-null   object\n",
      " 74  Unnamed: 74                                                                           3273 non-null   object\n",
      " 75  Unnamed: 75                                                                           3273 non-null   object\n",
      " 76  Unnamed: 76                                                                           3273 non-null   object\n",
      " 77  Unnamed: 77                                                                           3273 non-null   object\n",
      " 78  Unnamed: 78                                                                           3273 non-null   object\n",
      " 79  Unnamed: 79                                                                           3273 non-null   object\n",
      " 80  Unnamed: 80                                                                           3273 non-null   object\n",
      " 81  Unnamed: 81                                                                           3273 non-null   object\n",
      " 82  Unnamed: 82                                                                           3273 non-null   object\n",
      " 83  Unnamed: 83                                                                           3273 non-null   object\n",
      " 84  Unnamed: 84                                                                           3273 non-null   object\n",
      " 85  Unnamed: 85                                                                           3273 non-null   object\n",
      " 86  Unnamed: 86                                                                           3194 non-null   object\n",
      " 87  Unnamed: 87                                                                           3193 non-null   object\n",
      "dtypes: object(88)\n",
      "memory usage: 2.2+ MB\n",
      "None\n"
     ]
    }
   ],
   "source": [
    "#---------------------------------------IMPORT DES DONNEES----------------------------------------------------------\n",
    "# On spécifie le chemin d'accès aux données\n",
    "folder_path = \"./data/\"\n",
    "\n",
    "# On importe le fichier principal\n",
    "df_pres_result = pd.read_csv(folder_path + \"2020_US_County_Level_Presidential_Results.csv\", sep = \",\")\n",
    "df_pres_result_old = pd.read_csv(folder_path + \"US_County_Level_Presidential_Results_08-16.csv\", sep = \",\")\n",
    "df_education = pd.read_excel(folder_path + \"Education.xls\")\n",
    "df_pop_est = pd.read_excel(folder_path + \"PopulationEstimates.xls\")\n",
    "df_pov_est = pd.read_excel(folder_path + \"PovertyEstimates.xls\")\n",
    "df_unemp = pd.read_excel(folder_path + \"Unemployment.xls\")\n",
    "\n",
    "#-----------------------------------------TYPOLOGIE DES FEATURES--------------------------------------------------------\n",
    "# création d'une liste des dataframe à traiter\n",
    "df_xls_list = [df_pres_result,df_education,df_pop_est,df_pov_est,df_unemp]\n",
    "\n",
    "for d in df_xls_list:\n",
    "    print(d.info())"
   ]
  },
  {
   "cell_type": "code",
   "execution_count": 47,
   "id": "32e35664-0b87-4117-8347-6efd72027b1d",
   "metadata": {},
   "outputs": [
    {
     "data": {
      "text/html": [
       "<div>\n",
       "<style scoped>\n",
       "    .dataframe tbody tr th:only-of-type {\n",
       "        vertical-align: middle;\n",
       "    }\n",
       "\n",
       "    .dataframe tbody tr th {\n",
       "        vertical-align: top;\n",
       "    }\n",
       "\n",
       "    .dataframe thead th {\n",
       "        text-align: right;\n",
       "    }\n",
       "</style>\n",
       "<table border=\"1\" class=\"dataframe\">\n",
       "  <thead>\n",
       "    <tr style=\"text-align: right;\">\n",
       "      <th></th>\n",
       "      <th>Educational attainment for adults age 25 and older for the U.S., States, and counties, 1970-2019</th>\n",
       "      <th>Unnamed: 1</th>\n",
       "      <th>Unnamed: 2</th>\n",
       "      <th>Unnamed: 3</th>\n",
       "      <th>Unnamed: 4</th>\n",
       "      <th>Unnamed: 5</th>\n",
       "      <th>Unnamed: 6</th>\n",
       "      <th>Unnamed: 7</th>\n",
       "      <th>Unnamed: 8</th>\n",
       "      <th>Unnamed: 9</th>\n",
       "      <th>...</th>\n",
       "      <th>Unnamed: 37</th>\n",
       "      <th>Unnamed: 38</th>\n",
       "      <th>Unnamed: 39</th>\n",
       "      <th>Unnamed: 40</th>\n",
       "      <th>Unnamed: 41</th>\n",
       "      <th>Unnamed: 42</th>\n",
       "      <th>Unnamed: 43</th>\n",
       "      <th>Unnamed: 44</th>\n",
       "      <th>Unnamed: 45</th>\n",
       "      <th>Unnamed: 46</th>\n",
       "    </tr>\n",
       "  </thead>\n",
       "  <tbody>\n",
       "    <tr>\n",
       "      <th>3</th>\n",
       "      <td>FIPS Code</td>\n",
       "      <td>State</td>\n",
       "      <td>Area name</td>\n",
       "      <td>2003 Rural-urban Continuum Code</td>\n",
       "      <td>2003 Urban Influence Code</td>\n",
       "      <td>2013 Rural-urban Continuum Code</td>\n",
       "      <td>2013 Urban Influence Code</td>\n",
       "      <td>Less than a high school diploma, 1970</td>\n",
       "      <td>High school diploma only, 1970</td>\n",
       "      <td>Some college (1-3 years), 1970</td>\n",
       "      <td>...</td>\n",
       "      <td>Percent of adults completing some college or a...</td>\n",
       "      <td>Percent of adults with a bachelor's degree or ...</td>\n",
       "      <td>Less than a high school diploma, 2015-19</td>\n",
       "      <td>High school diploma only, 2015-19</td>\n",
       "      <td>Some college or associate's degree, 2015-19</td>\n",
       "      <td>Bachelor's degree or higher, 2015-19</td>\n",
       "      <td>Percent of adults with less than a high school...</td>\n",
       "      <td>Percent of adults with a high school diploma o...</td>\n",
       "      <td>Percent of adults completing some college or a...</td>\n",
       "      <td>Percent of adults with a bachelor's degree or ...</td>\n",
       "    </tr>\n",
       "    <tr>\n",
       "      <th>4</th>\n",
       "      <td>00000</td>\n",
       "      <td>US</td>\n",
       "      <td>United States</td>\n",
       "      <td>NaN</td>\n",
       "      <td>NaN</td>\n",
       "      <td>NaN</td>\n",
       "      <td>NaN</td>\n",
       "      <td>52373312</td>\n",
       "      <td>34158051</td>\n",
       "      <td>11650730</td>\n",
       "      <td>...</td>\n",
       "      <td>27.4</td>\n",
       "      <td>24.4</td>\n",
       "      <td>26472261</td>\n",
       "      <td>59472748</td>\n",
       "      <td>63756905</td>\n",
       "      <td>70920162</td>\n",
       "      <td>11.998918</td>\n",
       "      <td>26.956844</td>\n",
       "      <td>28.898697</td>\n",
       "      <td>32.145542</td>\n",
       "    </tr>\n",
       "    <tr>\n",
       "      <th>5</th>\n",
       "      <td>01000</td>\n",
       "      <td>AL</td>\n",
       "      <td>Alabama</td>\n",
       "      <td>NaN</td>\n",
       "      <td>NaN</td>\n",
       "      <td>NaN</td>\n",
       "      <td>NaN</td>\n",
       "      <td>1062306</td>\n",
       "      <td>468269</td>\n",
       "      <td>136287</td>\n",
       "      <td>...</td>\n",
       "      <td>25.9</td>\n",
       "      <td>19</td>\n",
       "      <td>458922</td>\n",
       "      <td>1022839</td>\n",
       "      <td>993344</td>\n",
       "      <td>845772</td>\n",
       "      <td>13.819302</td>\n",
       "      <td>30.800268</td>\n",
       "      <td>29.912098</td>\n",
       "      <td>25.468332</td>\n",
       "    </tr>\n",
       "    <tr>\n",
       "      <th>6</th>\n",
       "      <td>01001</td>\n",
       "      <td>AL</td>\n",
       "      <td>Autauga County</td>\n",
       "      <td>2</td>\n",
       "      <td>2</td>\n",
       "      <td>2</td>\n",
       "      <td>2</td>\n",
       "      <td>6611</td>\n",
       "      <td>3757</td>\n",
       "      <td>933</td>\n",
       "      <td>...</td>\n",
       "      <td>26.9</td>\n",
       "      <td>18</td>\n",
       "      <td>4291</td>\n",
       "      <td>12551</td>\n",
       "      <td>10596</td>\n",
       "      <td>9929</td>\n",
       "      <td>11.483395</td>\n",
       "      <td>33.588459</td>\n",
       "      <td>28.356571</td>\n",
       "      <td>26.571573</td>\n",
       "    </tr>\n",
       "    <tr>\n",
       "      <th>7</th>\n",
       "      <td>01003</td>\n",
       "      <td>AL</td>\n",
       "      <td>Baldwin County</td>\n",
       "      <td>4</td>\n",
       "      <td>5</td>\n",
       "      <td>3</td>\n",
       "      <td>2</td>\n",
       "      <td>18726</td>\n",
       "      <td>8426</td>\n",
       "      <td>2334</td>\n",
       "      <td>...</td>\n",
       "      <td>29.3</td>\n",
       "      <td>23.1</td>\n",
       "      <td>13893</td>\n",
       "      <td>41797</td>\n",
       "      <td>47274</td>\n",
       "      <td>48148</td>\n",
       "      <td>9.193843</td>\n",
       "      <td>27.659616</td>\n",
       "      <td>31.284081</td>\n",
       "      <td>31.862459</td>\n",
       "    </tr>\n",
       "    <tr>\n",
       "      <th>...</th>\n",
       "      <td>...</td>\n",
       "      <td>...</td>\n",
       "      <td>...</td>\n",
       "      <td>...</td>\n",
       "      <td>...</td>\n",
       "      <td>...</td>\n",
       "      <td>...</td>\n",
       "      <td>...</td>\n",
       "      <td>...</td>\n",
       "      <td>...</td>\n",
       "      <td>...</td>\n",
       "      <td>...</td>\n",
       "      <td>...</td>\n",
       "      <td>...</td>\n",
       "      <td>...</td>\n",
       "      <td>...</td>\n",
       "      <td>...</td>\n",
       "      <td>...</td>\n",
       "      <td>...</td>\n",
       "      <td>...</td>\n",
       "      <td>...</td>\n",
       "    </tr>\n",
       "    <tr>\n",
       "      <th>3282</th>\n",
       "      <td>72145</td>\n",
       "      <td>PR</td>\n",
       "      <td>Vega Baja Municipio</td>\n",
       "      <td>1</td>\n",
       "      <td>1</td>\n",
       "      <td>1</td>\n",
       "      <td>1</td>\n",
       "      <td>NaN</td>\n",
       "      <td>NaN</td>\n",
       "      <td>NaN</td>\n",
       "      <td>...</td>\n",
       "      <td>21.4</td>\n",
       "      <td>14.4</td>\n",
       "      <td>10494</td>\n",
       "      <td>9681</td>\n",
       "      <td>8905</td>\n",
       "      <td>7834</td>\n",
       "      <td>28.428238</td>\n",
       "      <td>26.225822</td>\n",
       "      <td>24.123638</td>\n",
       "      <td>21.2223</td>\n",
       "    </tr>\n",
       "    <tr>\n",
       "      <th>3283</th>\n",
       "      <td>72147</td>\n",
       "      <td>PR</td>\n",
       "      <td>Vieques Municipio</td>\n",
       "      <td>7</td>\n",
       "      <td>12</td>\n",
       "      <td>7</td>\n",
       "      <td>12</td>\n",
       "      <td>NaN</td>\n",
       "      <td>NaN</td>\n",
       "      <td>NaN</td>\n",
       "      <td>...</td>\n",
       "      <td>13.7</td>\n",
       "      <td>10.1</td>\n",
       "      <td>1792</td>\n",
       "      <td>2440</td>\n",
       "      <td>875</td>\n",
       "      <td>1121</td>\n",
       "      <td>28.773281</td>\n",
       "      <td>39.177906</td>\n",
       "      <td>14.049454</td>\n",
       "      <td>17.999357</td>\n",
       "    </tr>\n",
       "    <tr>\n",
       "      <th>3284</th>\n",
       "      <td>72149</td>\n",
       "      <td>PR</td>\n",
       "      <td>Villalba Municipio</td>\n",
       "      <td>2</td>\n",
       "      <td>2</td>\n",
       "      <td>2</td>\n",
       "      <td>2</td>\n",
       "      <td>NaN</td>\n",
       "      <td>NaN</td>\n",
       "      <td>NaN</td>\n",
       "      <td>...</td>\n",
       "      <td>18</td>\n",
       "      <td>12.8</td>\n",
       "      <td>3330</td>\n",
       "      <td>5809</td>\n",
       "      <td>2987</td>\n",
       "      <td>3015</td>\n",
       "      <td>21.993263</td>\n",
       "      <td>38.366028</td>\n",
       "      <td>19.727892</td>\n",
       "      <td>19.912819</td>\n",
       "    </tr>\n",
       "    <tr>\n",
       "      <th>3285</th>\n",
       "      <td>72151</td>\n",
       "      <td>PR</td>\n",
       "      <td>Yabucoa Municipio</td>\n",
       "      <td>1</td>\n",
       "      <td>1</td>\n",
       "      <td>1</td>\n",
       "      <td>1</td>\n",
       "      <td>NaN</td>\n",
       "      <td>NaN</td>\n",
       "      <td>NaN</td>\n",
       "      <td>...</td>\n",
       "      <td>18.3</td>\n",
       "      <td>12.1</td>\n",
       "      <td>6927</td>\n",
       "      <td>6132</td>\n",
       "      <td>6494</td>\n",
       "      <td>4293</td>\n",
       "      <td>29.048897</td>\n",
       "      <td>25.715004</td>\n",
       "      <td>27.233078</td>\n",
       "      <td>18.003019</td>\n",
       "    </tr>\n",
       "    <tr>\n",
       "      <th>3286</th>\n",
       "      <td>72153</td>\n",
       "      <td>PR</td>\n",
       "      <td>Yauco Municipio</td>\n",
       "      <td>3</td>\n",
       "      <td>2</td>\n",
       "      <td>2</td>\n",
       "      <td>2</td>\n",
       "      <td>NaN</td>\n",
       "      <td>NaN</td>\n",
       "      <td>NaN</td>\n",
       "      <td>...</td>\n",
       "      <td>17.8</td>\n",
       "      <td>15.8</td>\n",
       "      <td>6794</td>\n",
       "      <td>8512</td>\n",
       "      <td>3973</td>\n",
       "      <td>6304</td>\n",
       "      <td>26.556698</td>\n",
       "      <td>33.272095</td>\n",
       "      <td>15.529844</td>\n",
       "      <td>24.641363</td>\n",
       "    </tr>\n",
       "  </tbody>\n",
       "</table>\n",
       "<p>3284 rows × 47 columns</p>\n",
       "</div>"
      ],
      "text/plain": [
       "     Educational attainment for adults age 25 and older for the U.S., States, and counties, 1970-2019  \\\n",
       "3                                             FIPS Code                                                 \n",
       "4                                                 00000                                                 \n",
       "5                                                 01000                                                 \n",
       "6                                                 01001                                                 \n",
       "7                                                 01003                                                 \n",
       "...                                                 ...                                                 \n",
       "3282                                              72145                                                 \n",
       "3283                                              72147                                                 \n",
       "3284                                              72149                                                 \n",
       "3285                                              72151                                                 \n",
       "3286                                              72153                                                 \n",
       "\n",
       "     Unnamed: 1           Unnamed: 2                       Unnamed: 3  \\\n",
       "3         State            Area name  2003 Rural-urban Continuum Code   \n",
       "4            US        United States                              NaN   \n",
       "5            AL              Alabama                              NaN   \n",
       "6            AL       Autauga County                                2   \n",
       "7            AL       Baldwin County                                4   \n",
       "...         ...                  ...                              ...   \n",
       "3282         PR  Vega Baja Municipio                                1   \n",
       "3283         PR    Vieques Municipio                                7   \n",
       "3284         PR   Villalba Municipio                                2   \n",
       "3285         PR    Yabucoa Municipio                                1   \n",
       "3286         PR      Yauco Municipio                                3   \n",
       "\n",
       "                     Unnamed: 4                       Unnamed: 5  \\\n",
       "3     2003 Urban Influence Code  2013 Rural-urban Continuum Code   \n",
       "4                           NaN                              NaN   \n",
       "5                           NaN                              NaN   \n",
       "6                             2                                2   \n",
       "7                             5                                3   \n",
       "...                         ...                              ...   \n",
       "3282                          1                                1   \n",
       "3283                         12                                7   \n",
       "3284                          2                                2   \n",
       "3285                          1                                1   \n",
       "3286                          2                                2   \n",
       "\n",
       "                     Unnamed: 6                             Unnamed: 7  \\\n",
       "3     2013 Urban Influence Code  Less than a high school diploma, 1970   \n",
       "4                           NaN                               52373312   \n",
       "5                           NaN                                1062306   \n",
       "6                             2                                   6611   \n",
       "7                             2                                  18726   \n",
       "...                         ...                                    ...   \n",
       "3282                          1                                    NaN   \n",
       "3283                         12                                    NaN   \n",
       "3284                          2                                    NaN   \n",
       "3285                          1                                    NaN   \n",
       "3286                          2                                    NaN   \n",
       "\n",
       "                          Unnamed: 8                      Unnamed: 9  ...  \\\n",
       "3     High school diploma only, 1970  Some college (1-3 years), 1970  ...   \n",
       "4                           34158051                        11650730  ...   \n",
       "5                             468269                          136287  ...   \n",
       "6                               3757                             933  ...   \n",
       "7                               8426                            2334  ...   \n",
       "...                              ...                             ...  ...   \n",
       "3282                             NaN                             NaN  ...   \n",
       "3283                             NaN                             NaN  ...   \n",
       "3284                             NaN                             NaN  ...   \n",
       "3285                             NaN                             NaN  ...   \n",
       "3286                             NaN                             NaN  ...   \n",
       "\n",
       "                                            Unnamed: 37  \\\n",
       "3     Percent of adults completing some college or a...   \n",
       "4                                                  27.4   \n",
       "5                                                  25.9   \n",
       "6                                                  26.9   \n",
       "7                                                  29.3   \n",
       "...                                                 ...   \n",
       "3282                                               21.4   \n",
       "3283                                               13.7   \n",
       "3284                                                 18   \n",
       "3285                                               18.3   \n",
       "3286                                               17.8   \n",
       "\n",
       "                                            Unnamed: 38  \\\n",
       "3     Percent of adults with a bachelor's degree or ...   \n",
       "4                                                  24.4   \n",
       "5                                                    19   \n",
       "6                                                    18   \n",
       "7                                                  23.1   \n",
       "...                                                 ...   \n",
       "3282                                               14.4   \n",
       "3283                                               10.1   \n",
       "3284                                               12.8   \n",
       "3285                                               12.1   \n",
       "3286                                               15.8   \n",
       "\n",
       "                                   Unnamed: 39  \\\n",
       "3     Less than a high school diploma, 2015-19   \n",
       "4                                     26472261   \n",
       "5                                       458922   \n",
       "6                                         4291   \n",
       "7                                        13893   \n",
       "...                                        ...   \n",
       "3282                                     10494   \n",
       "3283                                      1792   \n",
       "3284                                      3330   \n",
       "3285                                      6927   \n",
       "3286                                      6794   \n",
       "\n",
       "                            Unnamed: 40  \\\n",
       "3     High school diploma only, 2015-19   \n",
       "4                              59472748   \n",
       "5                               1022839   \n",
       "6                                 12551   \n",
       "7                                 41797   \n",
       "...                                 ...   \n",
       "3282                               9681   \n",
       "3283                               2440   \n",
       "3284                               5809   \n",
       "3285                               6132   \n",
       "3286                               8512   \n",
       "\n",
       "                                      Unnamed: 41  \\\n",
       "3     Some college or associate's degree, 2015-19   \n",
       "4                                        63756905   \n",
       "5                                          993344   \n",
       "6                                           10596   \n",
       "7                                           47274   \n",
       "...                                           ...   \n",
       "3282                                         8905   \n",
       "3283                                          875   \n",
       "3284                                         2987   \n",
       "3285                                         6494   \n",
       "3286                                         3973   \n",
       "\n",
       "                               Unnamed: 42  \\\n",
       "3     Bachelor's degree or higher, 2015-19   \n",
       "4                                 70920162   \n",
       "5                                   845772   \n",
       "6                                     9929   \n",
       "7                                    48148   \n",
       "...                                    ...   \n",
       "3282                                  7834   \n",
       "3283                                  1121   \n",
       "3284                                  3015   \n",
       "3285                                  4293   \n",
       "3286                                  6304   \n",
       "\n",
       "                                            Unnamed: 43  \\\n",
       "3     Percent of adults with less than a high school...   \n",
       "4                                             11.998918   \n",
       "5                                             13.819302   \n",
       "6                                             11.483395   \n",
       "7                                              9.193843   \n",
       "...                                                 ...   \n",
       "3282                                          28.428238   \n",
       "3283                                          28.773281   \n",
       "3284                                          21.993263   \n",
       "3285                                          29.048897   \n",
       "3286                                          26.556698   \n",
       "\n",
       "                                            Unnamed: 44  \\\n",
       "3     Percent of adults with a high school diploma o...   \n",
       "4                                             26.956844   \n",
       "5                                             30.800268   \n",
       "6                                             33.588459   \n",
       "7                                             27.659616   \n",
       "...                                                 ...   \n",
       "3282                                          26.225822   \n",
       "3283                                          39.177906   \n",
       "3284                                          38.366028   \n",
       "3285                                          25.715004   \n",
       "3286                                          33.272095   \n",
       "\n",
       "                                            Unnamed: 45  \\\n",
       "3     Percent of adults completing some college or a...   \n",
       "4                                             28.898697   \n",
       "5                                             29.912098   \n",
       "6                                             28.356571   \n",
       "7                                             31.284081   \n",
       "...                                                 ...   \n",
       "3282                                          24.123638   \n",
       "3283                                          14.049454   \n",
       "3284                                          19.727892   \n",
       "3285                                          27.233078   \n",
       "3286                                          15.529844   \n",
       "\n",
       "                                            Unnamed: 46  \n",
       "3     Percent of adults with a bachelor's degree or ...  \n",
       "4                                             32.145542  \n",
       "5                                             25.468332  \n",
       "6                                             26.571573  \n",
       "7                                             31.862459  \n",
       "...                                                 ...  \n",
       "3282                                            21.2223  \n",
       "3283                                          17.999357  \n",
       "3284                                          19.912819  \n",
       "3285                                          18.003019  \n",
       "3286                                          24.641363  \n",
       "\n",
       "[3284 rows x 47 columns]"
      ]
     },
     "metadata": {},
     "output_type": "display_data"
    }
   ],
   "source": [
    "df_education_1 = df_education.iloc[3:]\n",
    "display(df_education_1) "
   ]
  },
  {
   "cell_type": "code",
   "execution_count": 39,
   "id": "1c01c659-a022-44c9-8516-573d8ff60444",
   "metadata": {},
   "outputs": [
    {
     "data": {
      "application/vnd.plotly.v1+json": {
       "config": {
        "plotlyServerURL": "https://plot.ly"
       },
       "data": [
        {
         "alignmentgroup": "True",
         "hovertemplate": "count=%{x:.2f}<br>target=%{y}<extra></extra>",
         "legendgroup": "",
         "marker": {
          "color": "#636efa",
          "pattern": {
           "shape": ""
          }
         },
         "name": "",
         "offsetgroup": "",
         "orientation": "h",
         "showlegend": false,
         "textposition": "auto",
         "type": "bar",
         "x": [
          82.32868020304569,
          17.671319796954315
         ],
         "xaxis": "x",
         "y": [
          "1",
          "0"
         ],
         "yaxis": "y"
        }
       ],
       "layout": {
        "barmode": "relative",
        "height": 300,
        "legend": {
         "tracegroupgap": 0
        },
        "margin": {
         "b": 50,
         "l": 0,
         "r": 0,
         "t": 30
        },
        "template": {
         "data": {
          "bar": [
           {
            "error_x": {
             "color": "#2a3f5f"
            },
            "error_y": {
             "color": "#2a3f5f"
            },
            "marker": {
             "line": {
              "color": "#E5ECF6",
              "width": 0.5
             },
             "pattern": {
              "fillmode": "overlay",
              "size": 10,
              "solidity": 0.2
             }
            },
            "type": "bar"
           }
          ],
          "barpolar": [
           {
            "marker": {
             "line": {
              "color": "#E5ECF6",
              "width": 0.5
             },
             "pattern": {
              "fillmode": "overlay",
              "size": 10,
              "solidity": 0.2
             }
            },
            "type": "barpolar"
           }
          ],
          "carpet": [
           {
            "aaxis": {
             "endlinecolor": "#2a3f5f",
             "gridcolor": "white",
             "linecolor": "white",
             "minorgridcolor": "white",
             "startlinecolor": "#2a3f5f"
            },
            "baxis": {
             "endlinecolor": "#2a3f5f",
             "gridcolor": "white",
             "linecolor": "white",
             "minorgridcolor": "white",
             "startlinecolor": "#2a3f5f"
            },
            "type": "carpet"
           }
          ],
          "choropleth": [
           {
            "colorbar": {
             "outlinewidth": 0,
             "ticks": ""
            },
            "type": "choropleth"
           }
          ],
          "contour": [
           {
            "colorbar": {
             "outlinewidth": 0,
             "ticks": ""
            },
            "colorscale": [
             [
              0,
              "#0d0887"
             ],
             [
              0.1111111111111111,
              "#46039f"
             ],
             [
              0.2222222222222222,
              "#7201a8"
             ],
             [
              0.3333333333333333,
              "#9c179e"
             ],
             [
              0.4444444444444444,
              "#bd3786"
             ],
             [
              0.5555555555555556,
              "#d8576b"
             ],
             [
              0.6666666666666666,
              "#ed7953"
             ],
             [
              0.7777777777777778,
              "#fb9f3a"
             ],
             [
              0.8888888888888888,
              "#fdca26"
             ],
             [
              1,
              "#f0f921"
             ]
            ],
            "type": "contour"
           }
          ],
          "contourcarpet": [
           {
            "colorbar": {
             "outlinewidth": 0,
             "ticks": ""
            },
            "type": "contourcarpet"
           }
          ],
          "heatmap": [
           {
            "colorbar": {
             "outlinewidth": 0,
             "ticks": ""
            },
            "colorscale": [
             [
              0,
              "#0d0887"
             ],
             [
              0.1111111111111111,
              "#46039f"
             ],
             [
              0.2222222222222222,
              "#7201a8"
             ],
             [
              0.3333333333333333,
              "#9c179e"
             ],
             [
              0.4444444444444444,
              "#bd3786"
             ],
             [
              0.5555555555555556,
              "#d8576b"
             ],
             [
              0.6666666666666666,
              "#ed7953"
             ],
             [
              0.7777777777777778,
              "#fb9f3a"
             ],
             [
              0.8888888888888888,
              "#fdca26"
             ],
             [
              1,
              "#f0f921"
             ]
            ],
            "type": "heatmap"
           }
          ],
          "heatmapgl": [
           {
            "colorbar": {
             "outlinewidth": 0,
             "ticks": ""
            },
            "colorscale": [
             [
              0,
              "#0d0887"
             ],
             [
              0.1111111111111111,
              "#46039f"
             ],
             [
              0.2222222222222222,
              "#7201a8"
             ],
             [
              0.3333333333333333,
              "#9c179e"
             ],
             [
              0.4444444444444444,
              "#bd3786"
             ],
             [
              0.5555555555555556,
              "#d8576b"
             ],
             [
              0.6666666666666666,
              "#ed7953"
             ],
             [
              0.7777777777777778,
              "#fb9f3a"
             ],
             [
              0.8888888888888888,
              "#fdca26"
             ],
             [
              1,
              "#f0f921"
             ]
            ],
            "type": "heatmapgl"
           }
          ],
          "histogram": [
           {
            "marker": {
             "pattern": {
              "fillmode": "overlay",
              "size": 10,
              "solidity": 0.2
             }
            },
            "type": "histogram"
           }
          ],
          "histogram2d": [
           {
            "colorbar": {
             "outlinewidth": 0,
             "ticks": ""
            },
            "colorscale": [
             [
              0,
              "#0d0887"
             ],
             [
              0.1111111111111111,
              "#46039f"
             ],
             [
              0.2222222222222222,
              "#7201a8"
             ],
             [
              0.3333333333333333,
              "#9c179e"
             ],
             [
              0.4444444444444444,
              "#bd3786"
             ],
             [
              0.5555555555555556,
              "#d8576b"
             ],
             [
              0.6666666666666666,
              "#ed7953"
             ],
             [
              0.7777777777777778,
              "#fb9f3a"
             ],
             [
              0.8888888888888888,
              "#fdca26"
             ],
             [
              1,
              "#f0f921"
             ]
            ],
            "type": "histogram2d"
           }
          ],
          "histogram2dcontour": [
           {
            "colorbar": {
             "outlinewidth": 0,
             "ticks": ""
            },
            "colorscale": [
             [
              0,
              "#0d0887"
             ],
             [
              0.1111111111111111,
              "#46039f"
             ],
             [
              0.2222222222222222,
              "#7201a8"
             ],
             [
              0.3333333333333333,
              "#9c179e"
             ],
             [
              0.4444444444444444,
              "#bd3786"
             ],
             [
              0.5555555555555556,
              "#d8576b"
             ],
             [
              0.6666666666666666,
              "#ed7953"
             ],
             [
              0.7777777777777778,
              "#fb9f3a"
             ],
             [
              0.8888888888888888,
              "#fdca26"
             ],
             [
              1,
              "#f0f921"
             ]
            ],
            "type": "histogram2dcontour"
           }
          ],
          "mesh3d": [
           {
            "colorbar": {
             "outlinewidth": 0,
             "ticks": ""
            },
            "type": "mesh3d"
           }
          ],
          "parcoords": [
           {
            "line": {
             "colorbar": {
              "outlinewidth": 0,
              "ticks": ""
             }
            },
            "type": "parcoords"
           }
          ],
          "pie": [
           {
            "automargin": true,
            "type": "pie"
           }
          ],
          "scatter": [
           {
            "fillpattern": {
             "fillmode": "overlay",
             "size": 10,
             "solidity": 0.2
            },
            "type": "scatter"
           }
          ],
          "scatter3d": [
           {
            "line": {
             "colorbar": {
              "outlinewidth": 0,
              "ticks": ""
             }
            },
            "marker": {
             "colorbar": {
              "outlinewidth": 0,
              "ticks": ""
             }
            },
            "type": "scatter3d"
           }
          ],
          "scattercarpet": [
           {
            "marker": {
             "colorbar": {
              "outlinewidth": 0,
              "ticks": ""
             }
            },
            "type": "scattercarpet"
           }
          ],
          "scattergeo": [
           {
            "marker": {
             "colorbar": {
              "outlinewidth": 0,
              "ticks": ""
             }
            },
            "type": "scattergeo"
           }
          ],
          "scattergl": [
           {
            "marker": {
             "colorbar": {
              "outlinewidth": 0,
              "ticks": ""
             }
            },
            "type": "scattergl"
           }
          ],
          "scattermapbox": [
           {
            "marker": {
             "colorbar": {
              "outlinewidth": 0,
              "ticks": ""
             }
            },
            "type": "scattermapbox"
           }
          ],
          "scatterpolar": [
           {
            "marker": {
             "colorbar": {
              "outlinewidth": 0,
              "ticks": ""
             }
            },
            "type": "scatterpolar"
           }
          ],
          "scatterpolargl": [
           {
            "marker": {
             "colorbar": {
              "outlinewidth": 0,
              "ticks": ""
             }
            },
            "type": "scatterpolargl"
           }
          ],
          "scatterternary": [
           {
            "marker": {
             "colorbar": {
              "outlinewidth": 0,
              "ticks": ""
             }
            },
            "type": "scatterternary"
           }
          ],
          "surface": [
           {
            "colorbar": {
             "outlinewidth": 0,
             "ticks": ""
            },
            "colorscale": [
             [
              0,
              "#0d0887"
             ],
             [
              0.1111111111111111,
              "#46039f"
             ],
             [
              0.2222222222222222,
              "#7201a8"
             ],
             [
              0.3333333333333333,
              "#9c179e"
             ],
             [
              0.4444444444444444,
              "#bd3786"
             ],
             [
              0.5555555555555556,
              "#d8576b"
             ],
             [
              0.6666666666666666,
              "#ed7953"
             ],
             [
              0.7777777777777778,
              "#fb9f3a"
             ],
             [
              0.8888888888888888,
              "#fdca26"
             ],
             [
              1,
              "#f0f921"
             ]
            ],
            "type": "surface"
           }
          ],
          "table": [
           {
            "cells": {
             "fill": {
              "color": "#EBF0F8"
             },
             "line": {
              "color": "white"
             }
            },
            "header": {
             "fill": {
              "color": "#C8D4E3"
             },
             "line": {
              "color": "white"
             }
            },
            "type": "table"
           }
          ]
         },
         "layout": {
          "annotationdefaults": {
           "arrowcolor": "#2a3f5f",
           "arrowhead": 0,
           "arrowwidth": 1
          },
          "autotypenumbers": "strict",
          "coloraxis": {
           "colorbar": {
            "outlinewidth": 0,
            "ticks": ""
           }
          },
          "colorscale": {
           "diverging": [
            [
             0,
             "#8e0152"
            ],
            [
             0.1,
             "#c51b7d"
            ],
            [
             0.2,
             "#de77ae"
            ],
            [
             0.3,
             "#f1b6da"
            ],
            [
             0.4,
             "#fde0ef"
            ],
            [
             0.5,
             "#f7f7f7"
            ],
            [
             0.6,
             "#e6f5d0"
            ],
            [
             0.7,
             "#b8e186"
            ],
            [
             0.8,
             "#7fbc41"
            ],
            [
             0.9,
             "#4d9221"
            ],
            [
             1,
             "#276419"
            ]
           ],
           "sequential": [
            [
             0,
             "#0d0887"
            ],
            [
             0.1111111111111111,
             "#46039f"
            ],
            [
             0.2222222222222222,
             "#7201a8"
            ],
            [
             0.3333333333333333,
             "#9c179e"
            ],
            [
             0.4444444444444444,
             "#bd3786"
            ],
            [
             0.5555555555555556,
             "#d8576b"
            ],
            [
             0.6666666666666666,
             "#ed7953"
            ],
            [
             0.7777777777777778,
             "#fb9f3a"
            ],
            [
             0.8888888888888888,
             "#fdca26"
            ],
            [
             1,
             "#f0f921"
            ]
           ],
           "sequentialminus": [
            [
             0,
             "#0d0887"
            ],
            [
             0.1111111111111111,
             "#46039f"
            ],
            [
             0.2222222222222222,
             "#7201a8"
            ],
            [
             0.3333333333333333,
             "#9c179e"
            ],
            [
             0.4444444444444444,
             "#bd3786"
            ],
            [
             0.5555555555555556,
             "#d8576b"
            ],
            [
             0.6666666666666666,
             "#ed7953"
            ],
            [
             0.7777777777777778,
             "#fb9f3a"
            ],
            [
             0.8888888888888888,
             "#fdca26"
            ],
            [
             1,
             "#f0f921"
            ]
           ]
          },
          "colorway": [
           "#636efa",
           "#EF553B",
           "#00cc96",
           "#ab63fa",
           "#FFA15A",
           "#19d3f3",
           "#FF6692",
           "#B6E880",
           "#FF97FF",
           "#FECB52"
          ],
          "font": {
           "color": "#2a3f5f"
          },
          "geo": {
           "bgcolor": "white",
           "lakecolor": "white",
           "landcolor": "#E5ECF6",
           "showlakes": true,
           "showland": true,
           "subunitcolor": "white"
          },
          "hoverlabel": {
           "align": "left"
          },
          "hovermode": "closest",
          "mapbox": {
           "style": "light"
          },
          "paper_bgcolor": "white",
          "plot_bgcolor": "#E5ECF6",
          "polar": {
           "angularaxis": {
            "gridcolor": "white",
            "linecolor": "white",
            "ticks": ""
           },
           "bgcolor": "#E5ECF6",
           "radialaxis": {
            "gridcolor": "white",
            "linecolor": "white",
            "ticks": ""
           }
          },
          "scene": {
           "xaxis": {
            "backgroundcolor": "#E5ECF6",
            "gridcolor": "white",
            "gridwidth": 2,
            "linecolor": "white",
            "showbackground": true,
            "ticks": "",
            "zerolinecolor": "white"
           },
           "yaxis": {
            "backgroundcolor": "#E5ECF6",
            "gridcolor": "white",
            "gridwidth": 2,
            "linecolor": "white",
            "showbackground": true,
            "ticks": "",
            "zerolinecolor": "white"
           },
           "zaxis": {
            "backgroundcolor": "#E5ECF6",
            "gridcolor": "white",
            "gridwidth": 2,
            "linecolor": "white",
            "showbackground": true,
            "ticks": "",
            "zerolinecolor": "white"
           }
          },
          "shapedefaults": {
           "line": {
            "color": "#2a3f5f"
           }
          },
          "ternary": {
           "aaxis": {
            "gridcolor": "white",
            "linecolor": "white",
            "ticks": ""
           },
           "baxis": {
            "gridcolor": "white",
            "linecolor": "white",
            "ticks": ""
           },
           "bgcolor": "#E5ECF6",
           "caxis": {
            "gridcolor": "white",
            "linecolor": "white",
            "ticks": ""
           }
          },
          "title": {
           "x": 0.05
          },
          "xaxis": {
           "automargin": true,
           "gridcolor": "white",
           "linecolor": "white",
           "ticks": "",
           "title": {
            "standoff": 15
           },
           "zerolinecolor": "white",
           "zerolinewidth": 2
          },
          "yaxis": {
           "automargin": true,
           "gridcolor": "white",
           "linecolor": "white",
           "ticks": "",
           "title": {
            "standoff": 15
           },
           "zerolinecolor": "white",
           "zerolinewidth": 2
          }
         }
        },
        "title": {
         "text": "Repartition de la target global"
        },
        "width": 500,
        "xaxis": {
         "anchor": "y",
         "autorange": true,
         "domain": [
          0,
          1
         ],
         "range": [
          0,
          86.66176863478493
         ],
         "title": {
          "text": "Pourcentage par classe"
         },
         "type": "linear"
        },
        "yaxis": {
         "anchor": "x",
         "autorange": true,
         "domain": [
          0,
          1
         ],
         "range": [
          -0.5,
          1.5
         ],
         "title": {
          "text": "Target (GOP/DEM)"
         },
         "type": "category"
        }
       }
      },
      "image/png": "[encoded data removed]",
      "text/html": [
       "<div>                            <div id=\"13670961-c79f-425d-949e-e9b2efcc0fb7\" class=\"plotly-graph-div\" style=\"height:300px; width:500px;\"></div>            <script type=\"text/javascript\">                require([\"plotly\"], function(Plotly) {                    window.PLOTLYENV=window.PLOTLYENV || {};                                    if (document.getElementById(\"13670961-c79f-425d-949e-e9b2efcc0fb7\")) {                    Plotly.newPlot(                        \"13670961-c79f-425d-949e-e9b2efcc0fb7\",                        [{\"alignmentgroup\":\"True\",\"hovertemplate\":\"count=%{x:.2f}<br>target=%{y}<extra></extra>\",\"legendgroup\":\"\",\"marker\":{\"color\":\"#636efa\",\"pattern\":{\"shape\":\"\"}},\"name\":\"\",\"offsetgroup\":\"\",\"orientation\":\"h\",\"showlegend\":false,\"textposition\":\"auto\",\"x\":[82.32868020304569,17.671319796954315],\"xaxis\":\"x\",\"y\":[\"1\",\"0\"],\"yaxis\":\"y\",\"type\":\"bar\"}],                        {\"template\":{\"data\":{\"histogram2dcontour\":[{\"type\":\"histogram2dcontour\",\"colorbar\":{\"outlinewidth\":0,\"ticks\":\"\"},\"colorscale\":[[0.0,\"#0d0887\"],[0.1111111111111111,\"#46039f\"],[0.2222222222222222,\"#7201a8\"],[0.3333333333333333,\"#9c179e\"],[0.4444444444444444,\"#bd3786\"],[0.5555555555555556,\"#d8576b\"],[0.6666666666666666,\"#ed7953\"],[0.7777777777777778,\"#fb9f3a\"],[0.8888888888888888,\"#fdca26\"],[1.0,\"#f0f921\"]]}],\"choropleth\":[{\"type\":\"choropleth\",\"colorbar\":{\"outlinewidth\":0,\"ticks\":\"\"}}],\"histogram2d\":[{\"type\":\"histogram2d\",\"colorbar\":{\"outlinewidth\":0,\"ticks\":\"\"},\"colorscale\":[[0.0,\"#0d0887\"],[0.1111111111111111,\"#46039f\"],[0.2222222222222222,\"#7201a8\"],[0.3333333333333333,\"#9c179e\"],[0.4444444444444444,\"#bd3786\"],[0.5555555555555556,\"#d8576b\"],[0.6666666666666666,\"#ed7953\"],[0.7777777777777778,\"#fb9f3a\"],[0.8888888888888888,\"#fdca26\"],[1.0,\"#f0f921\"]]}],\"heatmap\":[{\"type\":\"heatmap\",\"colorbar\":{\"outlinewidth\":0,\"ticks\":\"\"},\"colorscale\":[[0.0,\"#0d0887\"],[0.1111111111111111,\"#46039f\"],[0.2222222222222222,\"#7201a8\"],[0.3333333333333333,\"#9c179e\"],[0.4444444444444444,\"#bd3786\"],[0.5555555555555556,\"#d8576b\"],[0.6666666666666666,\"#ed7953\"],[0.7777777777777778,\"#fb9f3a\"],[0.8888888888888888,\"#fdca26\"],[1.0,\"#f0f921\"]]}],\"heatmapgl\":[{\"type\":\"heatmapgl\",\"colorbar\":{\"outlinewidth\":0,\"ticks\":\"\"},\"colorscale\":[[0.0,\"#0d0887\"],[0.1111111111111111,\"#46039f\"],[0.2222222222222222,\"#7201a8\"],[0.3333333333333333,\"#9c179e\"],[0.4444444444444444,\"#bd3786\"],[0.5555555555555556,\"#d8576b\"],[0.6666666666666666,\"#ed7953\"],[0.7777777777777778,\"#fb9f3a\"],[0.8888888888888888,\"#fdca26\"],[1.0,\"#f0f921\"]]}],\"contourcarpet\":[{\"type\":\"contourcarpet\",\"colorbar\":{\"outlinewidth\":0,\"ticks\":\"\"}}],\"contour\":[{\"type\":\"contour\",\"colorbar\":{\"outlinewidth\":0,\"ticks\":\"\"},\"colorscale\":[[0.0,\"#0d0887\"],[0.1111111111111111,\"#46039f\"],[0.2222222222222222,\"#7201a8\"],[0.3333333333333333,\"#9c179e\"],[0.4444444444444444,\"#bd3786\"],[0.5555555555555556,\"#d8576b\"],[0.6666666666666666,\"#ed7953\"],[0.7777777777777778,\"#fb9f3a\"],[0.8888888888888888,\"#fdca26\"],[1.0,\"#f0f921\"]]}],\"surface\":[{\"type\":\"surface\",\"colorbar\":{\"outlinewidth\":0,\"ticks\":\"\"},\"colorscale\":[[0.0,\"#0d0887\"],[0.1111111111111111,\"#46039f\"],[0.2222222222222222,\"#7201a8\"],[0.3333333333333333,\"#9c179e\"],[0.4444444444444444,\"#bd3786\"],[0.5555555555555556,\"#d8576b\"],[0.6666666666666666,\"#ed7953\"],[0.7777777777777778,\"#fb9f3a\"],[0.8888888888888888,\"#fdca26\"],[1.0,\"#f0f921\"]]}],\"mesh3d\":[{\"type\":\"mesh3d\",\"colorbar\":{\"outlinewidth\":0,\"ticks\":\"\"}}],\"scatter\":[{\"fillpattern\":{\"fillmode\":\"overlay\",\"size\":10,\"solidity\":0.2},\"type\":\"scatter\"}],\"parcoords\":[{\"type\":\"parcoords\",\"line\":{\"colorbar\":{\"outlinewidth\":0,\"ticks\":\"\"}}}],\"scatterpolargl\":[{\"type\":\"scatterpolargl\",\"marker\":{\"colorbar\":{\"outlinewidth\":0,\"ticks\":\"\"}}}],\"bar\":[{\"error_x\":{\"color\":\"#2a3f5f\"},\"error_y\":{\"color\":\"#2a3f5f\"},\"marker\":{\"line\":{\"color\":\"#E5ECF6\",\"width\":0.5},\"pattern\":{\"fillmode\":\"overlay\",\"size\":10,\"solidity\":0.2}},\"type\":\"bar\"}],\"scattergeo\":[{\"type\":\"scattergeo\",\"marker\":{\"colorbar\":{\"outlinewidth\":0,\"ticks\":\"\"}}}],\"scatterpolar\":[{\"type\":\"scatterpolar\",\"marker\":{\"colorbar\":{\"outlinewidth\":0,\"ticks\":\"\"}}}],\"histogram\":[{\"marker\":{\"pattern\":{\"fillmode\":\"overlay\",\"size\":10,\"solidity\":0.2}},\"type\":\"histogram\"}],\"scattergl\":[{\"type\":\"scattergl\",\"marker\":{\"colorbar\":{\"outlinewidth\":0,\"ticks\":\"\"}}}],\"scatter3d\":[{\"type\":\"scatter3d\",\"line\":{\"colorbar\":{\"outlinewidth\":0,\"ticks\":\"\"}},\"marker\":{\"colorbar\":{\"outlinewidth\":0,\"ticks\":\"\"}}}],\"scattermapbox\":[{\"type\":\"scattermapbox\",\"marker\":{\"colorbar\":{\"outlinewidth\":0,\"ticks\":\"\"}}}],\"scatterternary\":[{\"type\":\"scatterternary\",\"marker\":{\"colorbar\":{\"outlinewidth\":0,\"ticks\":\"\"}}}],\"scattercarpet\":[{\"type\":\"scattercarpet\",\"marker\":{\"colorbar\":{\"outlinewidth\":0,\"ticks\":\"\"}}}],\"carpet\":[{\"aaxis\":{\"endlinecolor\":\"#2a3f5f\",\"gridcolor\":\"white\",\"linecolor\":\"white\",\"minorgridcolor\":\"white\",\"startlinecolor\":\"#2a3f5f\"},\"baxis\":{\"endlinecolor\":\"#2a3f5f\",\"gridcolor\":\"white\",\"linecolor\":\"white\",\"minorgridcolor\":\"white\",\"startlinecolor\":\"#2a3f5f\"},\"type\":\"carpet\"}],\"table\":[{\"cells\":{\"fill\":{\"color\":\"#EBF0F8\"},\"line\":{\"color\":\"white\"}},\"header\":{\"fill\":{\"color\":\"#C8D4E3\"},\"line\":{\"color\":\"white\"}},\"type\":\"table\"}],\"barpolar\":[{\"marker\":{\"line\":{\"color\":\"#E5ECF6\",\"width\":0.5},\"pattern\":{\"fillmode\":\"overlay\",\"size\":10,\"solidity\":0.2}},\"type\":\"barpolar\"}],\"pie\":[{\"automargin\":true,\"type\":\"pie\"}]},\"layout\":{\"autotypenumbers\":\"strict\",\"colorway\":[\"#636efa\",\"#EF553B\",\"#00cc96\",\"#ab63fa\",\"#FFA15A\",\"#19d3f3\",\"#FF6692\",\"#B6E880\",\"#FF97FF\",\"#FECB52\"],\"font\":{\"color\":\"#2a3f5f\"},\"hovermode\":\"closest\",\"hoverlabel\":{\"align\":\"left\"},\"paper_bgcolor\":\"white\",\"plot_bgcolor\":\"#E5ECF6\",\"polar\":{\"bgcolor\":\"#E5ECF6\",\"angularaxis\":{\"gridcolor\":\"white\",\"linecolor\":\"white\",\"ticks\":\"\"},\"radialaxis\":{\"gridcolor\":\"white\",\"linecolor\":\"white\",\"ticks\":\"\"}},\"ternary\":{\"bgcolor\":\"#E5ECF6\",\"aaxis\":{\"gridcolor\":\"white\",\"linecolor\":\"white\",\"ticks\":\"\"},\"baxis\":{\"gridcolor\":\"white\",\"linecolor\":\"white\",\"ticks\":\"\"},\"caxis\":{\"gridcolor\":\"white\",\"linecolor\":\"white\",\"ticks\":\"\"}},\"coloraxis\":{\"colorbar\":{\"outlinewidth\":0,\"ticks\":\"\"}},\"colorscale\":{\"sequential\":[[0.0,\"#0d0887\"],[0.1111111111111111,\"#46039f\"],[0.2222222222222222,\"#7201a8\"],[0.3333333333333333,\"#9c179e\"],[0.4444444444444444,\"#bd3786\"],[0.5555555555555556,\"#d8576b\"],[0.6666666666666666,\"#ed7953\"],[0.7777777777777778,\"#fb9f3a\"],[0.8888888888888888,\"#fdca26\"],[1.0,\"#f0f921\"]],\"sequentialminus\":[[0.0,\"#0d0887\"],[0.1111111111111111,\"#46039f\"],[0.2222222222222222,\"#7201a8\"],[0.3333333333333333,\"#9c179e\"],[0.4444444444444444,\"#bd3786\"],[0.5555555555555556,\"#d8576b\"],[0.6666666666666666,\"#ed7953\"],[0.7777777777777778,\"#fb9f3a\"],[0.8888888888888888,\"#fdca26\"],[1.0,\"#f0f921\"]],\"diverging\":[[0,\"#8e0152\"],[0.1,\"#c51b7d\"],[0.2,\"#de77ae\"],[0.3,\"#f1b6da\"],[0.4,\"#fde0ef\"],[0.5,\"#f7f7f7\"],[0.6,\"#e6f5d0\"],[0.7,\"#b8e186\"],[0.8,\"#7fbc41\"],[0.9,\"#4d9221\"],[1,\"#276419\"]]},\"xaxis\":{\"gridcolor\":\"white\",\"linecolor\":\"white\",\"ticks\":\"\",\"title\":{\"standoff\":15},\"zerolinecolor\":\"white\",\"automargin\":true,\"zerolinewidth\":2},\"yaxis\":{\"gridcolor\":\"white\",\"linecolor\":\"white\",\"ticks\":\"\",\"title\":{\"standoff\":15},\"zerolinecolor\":\"white\",\"automargin\":true,\"zerolinewidth\":2},\"scene\":{\"xaxis\":{\"backgroundcolor\":\"#E5ECF6\",\"gridcolor\":\"white\",\"linecolor\":\"white\",\"showbackground\":true,\"ticks\":\"\",\"zerolinecolor\":\"white\",\"gridwidth\":2},\"yaxis\":{\"backgroundcolor\":\"#E5ECF6\",\"gridcolor\":\"white\",\"linecolor\":\"white\",\"showbackground\":true,\"ticks\":\"\",\"zerolinecolor\":\"white\",\"gridwidth\":2},\"zaxis\":{\"backgroundcolor\":\"#E5ECF6\",\"gridcolor\":\"white\",\"linecolor\":\"white\",\"showbackground\":true,\"ticks\":\"\",\"zerolinecolor\":\"white\",\"gridwidth\":2}},\"shapedefaults\":{\"line\":{\"color\":\"#2a3f5f\"}},\"annotationdefaults\":{\"arrowcolor\":\"#2a3f5f\",\"arrowhead\":0,\"arrowwidth\":1},\"geo\":{\"bgcolor\":\"white\",\"landcolor\":\"#E5ECF6\",\"subunitcolor\":\"white\",\"showland\":true,\"showlakes\":true,\"lakecolor\":\"white\"},\"title\":{\"x\":0.05},\"mapbox\":{\"style\":\"light\"}}},\"xaxis\":{\"anchor\":\"y\",\"domain\":[0.0,1.0],\"title\":{\"text\":\"Pourcentage par classe\"}},\"yaxis\":{\"anchor\":\"x\",\"domain\":[0.0,1.0],\"title\":{\"text\":\"Target (GOP/DEM)\"}},\"legend\":{\"tracegroupgap\":0},\"margin\":{\"t\":30,\"l\":0,\"r\":0,\"b\":50},\"barmode\":\"relative\",\"title\":{\"text\":\"Repartition de la target global\"},\"width\":500,\"height\":300},                        {\"responsive\": true}                    ).then(function(){\n",
       "                            \n",
       "var gd = document.getElementById('13670961-c79f-425d-949e-e9b2efcc0fb7');\n",
       "var x = new MutationObserver(function (mutations, observer) {{\n",
       "        var display = window.getComputedStyle(gd).display;\n",
       "        if (!display || display === 'none') {{\n",
       "            console.log([gd, 'removed!']);\n",
       "            Plotly.purge(gd);\n",
       "            observer.disconnect();\n",
       "        }}\n",
       "}});\n",
       "\n",
       "// Listen for the removal of the full notebook cells\n",
       "var notebookContainer = gd.closest('#notebook-container');\n",
       "if (notebookContainer) {{\n",
       "    x.observe(notebookContainer, {childList: true});\n",
       "}}\n",
       "\n",
       "// Listen for the clearing of the current output cell\n",
       "var outputEl = gd.closest('.output');\n",
       "if (outputEl) {{\n",
       "    x.observe(outputEl, {childList: true});\n",
       "}}\n",
       "\n",
       "                        })                };                });            </script>        </div>"
      ]
     },
     "metadata": {},
     "output_type": "display_data"
    }
   ],
   "source": [
    "#----------------------------------------------CREATION DE LA TARGET 'Party' ---------------------------------------------------\n",
    "conditionlist = [\n",
    "    (df_pres_result['per_gop'] < df_pres_result['per_dem']) ,\n",
    "    (df_pres_result['per_gop'] > df_pres_result['per_dem'])]\n",
    "choicelist = [0,1]\n",
    "df_pres_result['party'] = np.select(conditionlist, choicelist, default='Not Specified')\n",
    "\n",
    "#print(df_pres_result['party']) #Affichage de la colonne party\n",
    "\n",
    "# -------------------------------Representation globale de la target party-------------------\n",
    "\n",
    "target_distribution_bef_split = ditrib_calc(df_pres_result['party'],\"target\",\"party\")\n",
    "#print(target_distribution_bef_split)\n",
    "ditrib_graph(target_distribution_bef_split,\"Repartition de la target global\",\"Target (GOP/DEM)\")"
   ]
  },
  {
   "cell_type": "code",
   "execution_count": null,
   "id": "caf57d69-203d-42c2-a9e0-54e35d307c57",
   "metadata": {},
   "outputs": [],
   "source": [
    "#-------------------------------------------- REGROUPEMENT DES DONNES SOCIOECONOMIQUES -----------------------\n",
    "\n",
    "#-------------------------------------------- MISE EN FORME DU JEU DE DONNEES -----------------------\n",
    "# Séparer les variables explicatives de la target\n",
    "X = df_pres_result.drop([\"party\"], axis=1)\n",
    "y = df_pres_result[\"party\"]\n",
    "\n",
    "# split des données en train et test\n",
    "set_seed = 1204\n",
    "X_train, X_test, y_train, y_test = train_test_split(X, y, test_size=0.2, random_state=set_seed)\n",
    "\n",
    "# Création des listes de variables par catégorie\n",
    "cat_cols = X_train.select_dtypes(exclude=np.number).columns.tolist()\n",
    "num_cols =  X_train.select_dtypes(include=np.number).columns.tolist()\n",
    "all_cols = X_train.columns.tolist()\n",
    "\n",
    "\n",
    "# ------------------------------------DISTRIBUTION DE LA feature target 'party'-----------------------------------------------\n",
    "target_distribution = ditrib_calc(y_train,\"target\",\"party\")\n",
    "#print(target_distribution)\n",
    "ditrib_graph(target_distribution,\"Repartition de la target sur le jeu y train\",\"Target (GOP/DEM)\")"
   ]
  }
 ],
 "metadata": {
  "kernelspec": {
   "display_name": "Python 3 (ipykernel)",
   "language": "python",
   "name": "python3"
  },
  "language_info": {
   "codemirror_mode": {
    "name": "ipython",
    "version": 3
   },
   "file_extension": ".py",
   "mimetype": "text/x-python",
   "name": "python",
   "nbconvert_exporter": "python",
   "pygments_lexer": "ipython3",
   "version": "3.9.13"
  }
 },
 "nbformat": 4,
 "nbformat_minor": 5
}
